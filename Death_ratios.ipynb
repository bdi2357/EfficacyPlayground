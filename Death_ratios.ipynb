{
 "cells": [
  {
   "cell_type": "code",
   "execution_count": 53,
   "metadata": {},
   "outputs": [],
   "source": [
    "import pandas as pd\n",
    "import os,sys,re\n",
    "import numpy as np"
   ]
  },
  {
   "cell_type": "code",
   "execution_count": 54,
   "metadata": {},
   "outputs": [],
   "source": [
    "df = pd.read_csv(\"COVID-19/csse_covid_19_data/csse_covid_19_time_series/time_series_covid19_deaths_global.csv\")"
   ]
  },
  {
   "cell_type": "code",
   "execution_count": 55,
   "metadata": {},
   "outputs": [
    {
     "data": {
      "text/plain": [
       "Index(['Province/State', 'Country/Region', 'Lat', 'Long', '1/22/20', '1/23/20',\n",
       "       '1/24/20', '1/25/20', '1/26/20', '1/27/20',\n",
       "       ...\n",
       "       '2/24/21', '2/25/21', '2/26/21', '2/27/21', '2/28/21', '3/1/21',\n",
       "       '3/2/21', '3/3/21', '3/4/21', '3/5/21'],\n",
       "      dtype='object', length=413)"
      ]
     },
     "execution_count": 55,
     "metadata": {},
     "output_type": "execute_result"
    }
   ],
   "source": [
    "df.columns"
   ]
  },
  {
   "cell_type": "code",
   "execution_count": 56,
   "metadata": {},
   "outputs": [],
   "source": [
    "israel_death = df[df['Country/Region'] == \"Israel\"][df.columns[30:]].iloc[0]"
   ]
  },
  {
   "cell_type": "code",
   "execution_count": 57,
   "metadata": {},
   "outputs": [
    {
     "data": {
      "text/plain": [
       "<matplotlib.axes._subplots.AxesSubplot at 0x11c1eded0>"
      ]
     },
     "execution_count": 57,
     "metadata": {},
     "output_type": "execute_result"
    },
    {
     "data": {
      "image/png": "[encoded data removed]",
      "text/plain": [
       "<Figure size 432x288 with 1 Axes>"
      ]
     },
     "metadata": {
      "needs_background": "light"
     },
     "output_type": "display_data"
    }
   ],
   "source": [
    "israel_death[-200:].plot()"
   ]
  },
  {
   "cell_type": "code",
   "execution_count": 58,
   "metadata": {},
   "outputs": [
    {
     "data": {
      "text/plain": [
       "(833, 1505)"
      ]
     },
     "execution_count": 58,
     "metadata": {},
     "output_type": "execute_result"
    }
   ],
   "source": [
    "israel_death.iloc[-1] - israel_death.iloc[-30], israel_death.iloc[-30] - israel_death.iloc[-60] "
   ]
  },
  {
   "cell_type": "code",
   "execution_count": 59,
   "metadata": {},
   "outputs": [
    {
     "data": {
      "text/plain": [
       "903.2258064516128"
      ]
     },
     "execution_count": 59,
     "metadata": {},
     "output_type": "execute_result"
    }
   ],
   "source": [
    "(1./(1+19.*0.6))*140. * 20. *4"
   ]
  },
  {
   "cell_type": "code",
   "execution_count": 60,
   "metadata": {},
   "outputs": [
    {
     "data": {
      "text/plain": [
       "143"
      ]
     },
     "execution_count": 60,
     "metadata": {},
     "output_type": "execute_result"
    }
   ],
   "source": [
    "israel_death.iloc[-3] - israel_death.iloc[-10]"
   ]
  },
  {
   "cell_type": "code",
   "execution_count": 61,
   "metadata": {},
   "outputs": [
    {
     "data": {
      "text/plain": [
       "Index(['3/3/21', '3/4/21', '3/5/21'], dtype='object')"
      ]
     },
     "execution_count": 61,
     "metadata": {},
     "output_type": "execute_result"
    }
   ],
   "source": [
    "israel_death.index[-3:]"
   ]
  },
  {
   "cell_type": "code",
   "execution_count": 62,
   "metadata": {},
   "outputs": [
    {
     "data": {
      "text/plain": [
       "122.265"
      ]
     },
     "execution_count": 62,
     "metadata": {},
     "output_type": "execute_result"
    }
   ],
   "source": [
    "(israel_death.iloc[-3] - israel_death.iloc[-10])*0.95 *0.9"
   ]
  },
  {
   "cell_type": "code",
   "execution_count": 63,
   "metadata": {},
   "outputs": [
    {
     "data": {
      "text/plain": [
       "600"
      ]
     },
     "execution_count": 63,
     "metadata": {},
     "output_type": "execute_result"
    }
   ],
   "source": [
    "150 *4 "
   ]
  },
  {
   "cell_type": "code",
   "execution_count": 64,
   "metadata": {},
   "outputs": [],
   "source": [
    "beta = 1500 /600."
   ]
  },
  {
   "cell_type": "code",
   "execution_count": 65,
   "metadata": {},
   "outputs": [
    {
     "data": {
      "text/plain": [
       "2.5"
      ]
     },
     "execution_count": 65,
     "metadata": {},
     "output_type": "execute_result"
    }
   ],
   "source": [
    "beta"
   ]
  },
  {
   "cell_type": "code",
   "execution_count": 66,
   "metadata": {},
   "outputs": [
    {
     "data": {
      "text/plain": [
       "0.631578947368421"
      ]
     },
     "execution_count": 66,
     "metadata": {},
     "output_type": "execute_result"
    }
   ],
   "source": [
    "(beta -1.)/(beta*0.95)"
   ]
  },
  {
   "cell_type": "code",
   "execution_count": 67,
   "metadata": {},
   "outputs": [],
   "source": [
    "beta2 = 1000/600."
   ]
  },
  {
   "cell_type": "code",
   "execution_count": 68,
   "metadata": {},
   "outputs": [
    {
     "data": {
      "text/plain": [
       "0.42105263157894746"
      ]
     },
     "execution_count": 68,
     "metadata": {},
     "output_type": "execute_result"
    }
   ],
   "source": [
    "(beta2 -1.)/(beta2*0.95)"
   ]
  },
  {
   "cell_type": "code",
   "execution_count": 69,
   "metadata": {},
   "outputs": [
    {
     "data": {
      "text/plain": [
       "(1467.0, '2/8/21')"
      ]
     },
     "execution_count": 69,
     "metadata": {},
     "output_type": "execute_result"
    }
   ],
   "source": [
    "(israel_death - israel_death.shift(28)).fillna(0.0).max(),(israel_death - israel_death.shift(28)).fillna(0.0).idxmax()"
   ]
  },
  {
   "cell_type": "code",
   "execution_count": 70,
   "metadata": {},
   "outputs": [
    {
     "data": {
      "text/plain": [
       "<matplotlib.axes._subplots.AxesSubplot at 0x107caef90>"
      ]
     },
     "execution_count": 70,
     "metadata": {},
     "output_type": "execute_result"
    },
    {
     "data": {
      "image/png": "[encoded data removed]",
      "text/plain": [
       "<Figure size 432x288 with 1 Axes>"
      ]
     },
     "metadata": {
      "needs_background": "light"
     },
     "output_type": "display_data"
    }
   ],
   "source": [
    "(israel_death - israel_death.shift(28)).fillna(0.0).plot()"
   ]
  },
  {
   "cell_type": "code",
   "execution_count": 79,
   "metadata": {},
   "outputs": [
    {
     "data": {
      "text/plain": [
       "5171"
      ]
     },
     "execution_count": 79,
     "metadata": {},
     "output_type": "execute_result"
    }
   ],
   "source": [
    "import dateutil\n",
    "from dateutil import parser\n",
    "tm = parser.parse((israel_death - israel_death.shift(28)).fillna(0.0).idxmax()).strftime(\"%m/%d%/%Y\")\n",
    "\n",
    "israel_death.loc['2/8/21']"
   ]
  },
  {
   "cell_type": "code",
   "execution_count": 81,
   "metadata": {},
   "outputs": [],
   "source": [
    "from datetime import timedelta\n",
    "df = df.rename( columns={c : parser.parse(c) for c in df.columns[30:] })"
   ]
  },
  {
   "cell_type": "code",
   "execution_count": 83,
   "metadata": {},
   "outputs": [],
   "source": [
    "israel_death = df[df['Country/Region'] == \"Israel\"][df.columns[30:]].iloc[0]\n",
    "mx,idx = (israel_death - israel_death.shift(28)).fillna(0.0).max(),(israel_death - israel_death.shift(28)).fillna(0.0).idxmax()"
   ]
  },
  {
   "cell_type": "code",
   "execution_count": 90,
   "metadata": {},
   "outputs": [
    {
     "name": "stderr",
     "output_type": "stream",
     "text": [
      "/opt/anaconda3/lib/python3.7/site-packages/ipykernel_launcher.py:3: DeprecationWarning: parsing timezone aware datetimes is deprecated; this will raise an error in the future\n",
      "  This is separate from the ipykernel package so we can avoid doing imports until\n"
     ]
    },
    {
     "data": {
      "text/plain": [
       "(1612742400.0,\n",
       " datetime.datetime(2021, 2, 8, 0, 0),\n",
       " datetime.datetime(2021, 2, 18, 0, 0))"
      ]
     },
     "execution_count": 90,
     "metadata": {},
     "output_type": "execute_result"
    }
   ],
   "source": [
    "from datetime import datetime\n",
    "dt64 = idx\n",
    "ts = (dt64 - np.datetime64('1970-01-01T00:00:00Z')) / np.timedelta64(1, 's')\n",
    "ts,datetime.utcfromtimestamp(ts),datetime.utcfromtimestamp(ts)+timedelta(days=10) "
   ]
  },
  {
   "cell_type": "code",
   "execution_count": 93,
   "metadata": {},
   "outputs": [
    {
     "data": {
      "text/plain": [
       "0.8616223585548739"
      ]
     },
     "execution_count": 93,
     "metadata": {},
     "output_type": "execute_result"
    }
   ],
   "source": [
    "ts2 = datetime.utcfromtimestamp(ts)+timedelta(days=10)\n",
    "mx_dlt10 = (israel_death - israel_death.shift(28)).fillna(0.0).loc[np.datetime64(ts2)]\n",
    "mx_dlt10/mx"
   ]
  },
  {
   "cell_type": "code",
   "execution_count": 160,
   "metadata": {},
   "outputs": [],
   "source": [
    "def trans_delta(dt64,delta):\n",
    "    ts = (dt64 - np.datetime64('1970-01-01T00:00:00Z')) / np.timedelta64(1, 's')\n",
    "    ts_delta = datetime.utcfromtimestamp(ts)+timedelta(days=delta)\n",
    "    return np.datetime64(ts_delta)\n",
    "def ratio_from_max(srs,delta):\n",
    "    mx,idx = srs.max(),srs.idxmax()\n",
    "    idx_delta = trans_delta(idx,delta)\n",
    "    try:\n",
    "        comp_val = srs.loc[idx_delta]\n",
    "    except:\n",
    "        comp_val = 0.0\n",
    "    return comp_val/mx\n",
    "def ratio_from_max_double(srs,delta,srs2):\n",
    "    mx,idx = srs.max(),srs.idxmax()\n",
    "    idx_delta = trans_delta(idx,delta)\n",
    "    try:\n",
    "        comp_val = srs2.loc[idx_delta]\n",
    "    except:\n",
    "        comp_val = 0.0\n",
    "    return comp_val/mx\n"
   ]
  },
  {
   "cell_type": "code",
   "execution_count": 102,
   "metadata": {},
   "outputs": [],
   "source": [
    "df['Province/State'] = df['Province/State'].fillna(\"\")\n",
    "df[\"State_Country\"] = df.apply(lambda r:r['Province/State']+\"_\"+r['Country/Region'],axis=1)"
   ]
  },
  {
   "cell_type": "code",
   "execution_count": 105,
   "metadata": {},
   "outputs": [],
   "source": [
    "S = set(df[\"State_Country\"])\n",
    "Sf = [s for s in S if df[df['State_Country'] == s].iloc[0].iloc[-2]>1000 ]"
   ]
  },
  {
   "cell_type": "code",
   "execution_count": 161,
   "metadata": {},
   "outputs": [],
   "source": [
    "def mort_x_days(df,state_country,x_days):\n",
    "    death_sr = df[df['State_Country'] == state_country][df.columns[30:-1]].iloc[0]\n",
    "    #print(state_country,death_sr[-10:])\n",
    "    #print( (death_sr - death_sr.shift(x_days)).fillna(0.0)[-10:])\n",
    "    try:\n",
    "        X = (death_sr - death_sr.shift(x_days)).fillna(0.0)\n",
    "    except:\n",
    "        return False\n",
    "    return X\n",
    "mortality_28_days = dict()\n",
    "for x in Sf:\n",
    "    m = mort_x_days(df,x,28)\n",
    "    if not isinstance(m,bool):\n",
    "        mortality_28_days[x] = m\n",
    "mortality_7_days = dict()\n",
    "for x in Sf:\n",
    "    m = mort_x_days(df,x,7)\n",
    "    if not isinstance(m,bool):\n",
    "        mortality_7_days[x] = m"
   ]
  },
  {
   "cell_type": "code",
   "execution_count": 162,
   "metadata": {},
   "outputs": [
    {
     "name": "stderr",
     "output_type": "stream",
     "text": [
      "/opt/anaconda3/lib/python3.7/site-packages/ipykernel_launcher.py:2: DeprecationWarning: parsing timezone aware datetimes is deprecated; this will raise an error in the future\n",
      "  \n"
     ]
    }
   ],
   "source": [
    "ratio_distr = [(k,ratio_from_max(mortality_28_days[k],20)) for k in mortality_28_days.keys() ]\n",
    "ratio_distr2 = [(k,ratio_from_max_double(mortality_28_days[k],20,mortality_7_days[k])) for k in mortality_28_days.keys() ]\n"
   ]
  },
  {
   "cell_type": "code",
   "execution_count": 150,
   "metadata": {},
   "outputs": [
    {
     "data": {
      "text/plain": [
       "('_Belarus', 0.9887640449438202)"
      ]
     },
     "execution_count": 150,
     "metadata": {},
     "output_type": "execute_result"
    }
   ],
   "source": [
    "max(ratio_distr,key=lambda x: x[1])"
   ]
  },
  {
   "cell_type": "code",
   "execution_count": 163,
   "metadata": {},
   "outputs": [
    {
     "data": {
      "text/plain": [
       "[('_Belarus', 0.9887640449438202),\n",
       " ('_Russia', 0.9540336468406412),\n",
       " ('Hubei_China', 0.9405366207396664),\n",
       " ('_Armenia', 0.9008782936010038),\n",
       " ('_Romania', 0.894725078229772),\n",
       " ('_Bangladesh', 0.8773109243697479),\n",
       " ('_Bosnia and Herzegovina', 0.8684573002754821),\n",
       " ('_Saudi Arabia', 0.8664546899841018),\n",
       " ('_Bolivia', 0.8653500897666068),\n",
       " ('_Indonesia', 0.8553669295548724)]"
      ]
     },
     "execution_count": 163,
     "metadata": {},
     "output_type": "execute_result"
    }
   ],
   "source": [
    "ratio_distr.sort(key=lambda x:x[1],reverse=True)\n",
    "ratio_distr[:10]"
   ]
  },
  {
   "cell_type": "code",
   "execution_count": 165,
   "metadata": {},
   "outputs": [
    {
     "data": {
      "text/plain": [
       "[('_Russia', 0.24844350245065572),\n",
       " ('_Belarus', 0.23595505617977527),\n",
       " ('_Bangladesh', 0.2184873949579832),\n",
       " ('_Guatemala', 0.21469465648854963),\n",
       " ('_Latvia', 0.20962199312714777),\n",
       " ('_Armenia', 0.19698870765370138),\n",
       " ('_Indonesia', 0.1959631065365593),\n",
       " ('_Burma', 0.19362186788154898),\n",
       " ('_Romania', 0.19065713008493518),\n",
       " ('_Iraq', 0.18952802359882007),\n",
       " ('_Honduras', 0.18733153638814015),\n",
       " ('_Costa Rica', 0.1845841784989858),\n",
       " ('_Philippines', 0.1780821917808219),\n",
       " ('_Argentina', 0.1761346558461076),\n",
       " ('_El Salvador', 0.17567567567567569),\n",
       " ('_Syria', 0.17314487632508835),\n",
       " ('_Lebanon', 0.17231503579952268),\n",
       " ('_Hungary', 0.1717014660151044),\n",
       " ('_Switzerland', 0.17147192716236723),\n",
       " ('_Turkey', 0.17071320182094082),\n",
       " ('_Italy', 0.1706801423193936),\n",
       " ('_Moldova', 0.17041800643086816),\n",
       " ('_India', 0.1702127659574468),\n",
       " ('_Libya', 0.16883116883116883),\n",
       " ('_Paraguay', 0.16784452296819788),\n",
       " ('_Venezuela', 0.16738197424892703),\n",
       " ('_Ukraine', 0.16526986255447537),\n",
       " ('_Saudi Arabia', 0.16454689984101747),\n",
       " ('_Japan', 0.1642944286295242),\n",
       " ('_Bosnia and Herzegovina', 0.162534435261708),\n",
       " ('_Lithuania', 0.15732217573221757),\n",
       " ('_Mexico', 0.15428656627404205),\n",
       " ('_Serbia', 0.1541501976284585),\n",
       " ('_Panama', 0.15384615384615385),\n",
       " ('_Slovenia', 0.15295926210607225),\n",
       " ('British Columbia_Canada', 0.15294117647058825),\n",
       " ('_Morocco', 0.1511627906976744),\n",
       " ('_Ethiopia', 0.1442495126705653),\n",
       " ('_US', 0.14279084158415842),\n",
       " ('_Georgia', 0.14261019878997408),\n",
       " ('_Poland', 0.14216962524654833),\n",
       " ('Quebec_Canada', 0.13897082923631596),\n",
       " ('_Algeria', 0.13859275053304904),\n",
       " ('_Sudan', 0.13245033112582782),\n",
       " ('_Germany', 0.1312707182320442),\n",
       " ('_West Bank and Gaza', 0.1292834890965732),\n",
       " ('_Bulgaria', 0.12704368801929777),\n",
       " ('_Egypt', 0.12560175054704595),\n",
       " ('_Croatia', 0.12557427258805512),\n",
       " ('_Chile', 0.12309997859130807),\n",
       " ('_Iran', 0.1224845507843448),\n",
       " ('_Kenya', 0.12215320910973085),\n",
       " ('_Kuwait', 0.12135922330097088),\n",
       " ('Ontario_Canada', 0.12119248217757615),\n",
       " ('_Austria', 0.12119183126883161),\n",
       " ('Alberta_Canada', 0.12006578947368421),\n",
       " ('_Israel', 0.11929107021131562),\n",
       " ('_Greece', 0.11733333333333333),\n",
       " ('_Dominican Republic', 0.11711711711711711),\n",
       " ('_North Macedonia', 0.11642156862745098),\n",
       " ('_Czechia', 0.11584158415841585),\n",
       " ('_Colombia', 0.1151270435296435),\n",
       " ('_Oman', 0.11191335740072202),\n",
       " ('_Tunisia', 0.11100049776007964),\n",
       " ('_Pakistan', 0.10431256911168449),\n",
       " ('_Korea, South', 0.10398613518197573),\n",
       " ('_Jordan', 0.10163043478260869),\n",
       " ('_Kosovo', 0.0979381443298969),\n",
       " ('_United Kingdom', 0.09722091969114383),\n",
       " ('_Denmark', 0.09681372549019608),\n",
       " ('_Ireland', 0.08836524300441827),\n",
       " ('_Azerbaijan', 0.08726003490401396),\n",
       " ('_Spain', 0.0805422226910702),\n",
       " ('_South Africa', 0.08046832701678397),\n",
       " ('_Sweden', 0.07599193006052454),\n",
       " ('_Netherlands', 0.0753315649867374),\n",
       " ('_Peru', 0.07229838400857777),\n",
       " ('_Bolivia', 0.07211250748055056),\n",
       " ('_France', 0.06387393172948673),\n",
       " ('_Belgium', 0.05915745443680908),\n",
       " ('_Afghanistan', 0.05016722408026756),\n",
       " ('_Portugal', 0.04522381172127365),\n",
       " ('_Kazakhstan', 0.0451505016722408),\n",
       " ('_Zimbabwe', 0.042352941176470586),\n",
       " ('_Malawi', 0.041666666666666664),\n",
       " ('_Ecuador', 0.033922405037578714),\n",
       " ('_Kyrgyzstan', 0.0015037593984962407),\n",
       " ('_Slovakia', 0.0),\n",
       " ('_Malaysia', 0.0),\n",
       " ('_Montenegro', 0.0),\n",
       " ('_Nigeria', 0.0),\n",
       " ('_Nepal', 0.0),\n",
       " ('Hubei_China', 0.0),\n",
       " ('_United Arab Emirates', 0.0),\n",
       " ('_Albania', 0.0),\n",
       " ('_Brazil', 0.0),\n",
       " ('_Zambia', 0.0)]"
      ]
     },
     "execution_count": 165,
     "metadata": {},
     "output_type": "execute_result"
    }
   ],
   "source": [
    "ratio_distr2.sort(key=lambda x:x[1],reverse=True)\n",
    "ratio_distr2[:150]"
   ]
  },
  {
   "cell_type": "code",
   "execution_count": 158,
   "metadata": {},
   "outputs": [
    {
     "data": {
      "text/plain": [
       "(1.309034907597536, 0.24850361197110432)"
      ]
     },
     "execution_count": 158,
     "metadata": {},
     "output_type": "execute_result"
    }
   ],
   "source": [
    "beta = 0.85 *(1500./974.)\n",
    "Pv =0.95\n",
    "beta, (beta-1.)/(beta*Pv)"
   ]
  },
  {
   "cell_type": "code",
   "execution_count": 157,
   "metadata": {},
   "outputs": [
    {
     "data": {
      "text/plain": [
       "140.79"
      ]
     },
     "execution_count": 157,
     "metadata": {},
     "output_type": "execute_result"
    }
   ],
   "source": [
    "(israel_death - israel_death.shift(7)).fillna(0.0).iloc[-4] *0.95*0.95"
   ]
  },
  {
   "cell_type": "code",
   "execution_count": 167,
   "metadata": {},
   "outputs": [
    {
     "data": {
      "text/plain": [
       "(2.5, 0.631578947368421)"
      ]
     },
     "execution_count": 167,
     "metadata": {},
     "output_type": "execute_result"
    }
   ],
   "source": [
    "beta = 2.5 #0.17/0.11\n",
    "Pv =0.95\n",
    "beta, (beta-1.)/(beta*Pv)"
   ]
  },
  {
   "cell_type": "code",
   "execution_count": null,
   "metadata": {},
   "outputs": [],
   "source": []
  }
 ],
 "metadata": {
  "kernelspec": {
   "display_name": "Python 3",
   "language": "python",
   "name": "python3"
  },
  "language_info": {
   "codemirror_mode": {
    "name": "ipython",
    "version": 3
   },
   "file_extension": ".py",
   "mimetype": "text/x-python",
   "name": "python",
   "nbconvert_exporter": "python",
   "pygments_lexer": "ipython3",
   "version": "3.7.6"
  }
 },
 "nbformat": 4,
 "nbformat_minor": 4
}
